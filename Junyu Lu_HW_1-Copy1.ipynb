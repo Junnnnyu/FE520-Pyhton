{
 "cells": [
  {
   "cell_type": "markdown",
   "metadata": {},
   "source": [
    "# Print"
   ]
  },
  {
   "cell_type": "code",
   "execution_count": 1,
   "metadata": {},
   "outputs": [
    {
     "name": "stdout",
     "output_type": "stream",
     "text": [
      "abc\n"
     ]
    }
   ],
   "source": [
    "a = 'abc'\n",
    "print(a)"
   ]
  },
  {
   "cell_type": "code",
   "execution_count": 6,
   "metadata": {},
   "outputs": [
    {
     "name": "stdout",
     "output_type": "stream",
     "text": [
      "I'm a student\n"
     ]
    }
   ],
   "source": [
    "b = str(\"I'm a student\")\n",
    "print(b)"
   ]
  },
  {
   "cell_type": "code",
   "execution_count": 12,
   "metadata": {
    "scrolled": true
   },
   "outputs": [
    {
     "name": "stdout",
     "output_type": "stream",
     "text": [
      "How do I think of this course?\n",
      "I think it is pretty good!\n",
      "I will recommand it to my classmates\n",
      "\n"
     ]
    }
   ],
   "source": [
    "c = \"\"\"How do I think of this course?\n",
    "I think it is pretty good!\n",
    "I will recommand it to my classmates\n",
    "\"\"\"\n",
    "print(c)"
   ]
  },
  {
   "cell_type": "code",
   "execution_count": 9,
   "metadata": {},
   "outputs": [
    {
     "data": {
      "text/plain": [
       "True"
      ]
     },
     "execution_count": 9,
     "metadata": {},
     "output_type": "execute_result"
    }
   ],
   "source": [
    "isinstance(b,str)"
   ]
  },
  {
   "cell_type": "markdown",
   "metadata": {},
   "source": [
    "# Operator"
   ]
  },
  {
   "cell_type": "code",
   "execution_count": 13,
   "metadata": {},
   "outputs": [],
   "source": [
    "a = 100\n",
    "b = 9"
   ]
  },
  {
   "cell_type": "code",
   "execution_count": 25,
   "metadata": {},
   "outputs": [
    {
     "name": "stdout",
     "output_type": "stream",
     "text": [
      "109\n"
     ]
    }
   ],
   "source": [
    "print(a + b)"
   ]
  },
  {
   "cell_type": "code",
   "execution_count": 24,
   "metadata": {},
   "outputs": [
    {
     "name": "stdout",
     "output_type": "stream",
     "text": [
      "11.11111111111111\n"
     ]
    }
   ],
   "source": [
    "print(a/b)"
   ]
  },
  {
   "cell_type": "code",
   "execution_count": 27,
   "metadata": {},
   "outputs": [
    {
     "name": "stdout",
     "output_type": "stream",
     "text": [
      "11\n"
     ]
    }
   ],
   "source": [
    "print(a//b)"
   ]
  },
  {
   "cell_type": "code",
   "execution_count": 26,
   "metadata": {},
   "outputs": [
    {
     "name": "stdout",
     "output_type": "stream",
     "text": [
      "1\n"
     ]
    }
   ],
   "source": [
    "print(a%b)"
   ]
  },
  {
   "cell_type": "code",
   "execution_count": 22,
   "metadata": {},
   "outputs": [
    {
     "name": "stdout",
     "output_type": "stream",
     "text": [
      "1000000000000000000\n"
     ]
    }
   ],
   "source": [
    "print(a**b)"
   ]
  },
  {
   "cell_type": "code",
   "execution_count": 28,
   "metadata": {},
   "outputs": [
    {
     "name": "stdout",
     "output_type": "stream",
     "text": [
      "True\n"
     ]
    }
   ],
   "source": [
    "print(a!=b)"
   ]
  },
  {
   "cell_type": "code",
   "execution_count": 29,
   "metadata": {},
   "outputs": [
    {
     "name": "stdout",
     "output_type": "stream",
     "text": [
      "True\n"
     ]
    }
   ],
   "source": [
    "print(20>b)"
   ]
  },
  {
   "cell_type": "markdown",
   "metadata": {},
   "source": [
    "# List Practice"
   ]
  },
  {
   "cell_type": "code",
   "execution_count": 69,
   "metadata": {},
   "outputs": [
    {
     "name": "stdout",
     "output_type": "stream",
     "text": [
      "[7, 2.333, '饺子', '馄饨', '面条', '炒饭']\n"
     ]
    }
   ],
   "source": [
    "List_A = [7 , 2.333 , \"饺子\" , \"馄饨\" , \"面条\" , \"炒饭\"]\n",
    "print(List_A)"
   ]
  },
  {
   "cell_type": "code",
   "execution_count": 70,
   "metadata": {},
   "outputs": [],
   "source": [
    "List_B = [\"two\", \"elements\"]"
   ]
  },
  {
   "cell_type": "code",
   "execution_count": 71,
   "metadata": {},
   "outputs": [
    {
     "data": {
      "text/plain": [
       "[7, 2.333, '饺子', '馄饨', '面条', '炒饭', ['two', 'elements']]"
      ]
     },
     "execution_count": 71,
     "metadata": {},
     "output_type": "execute_result"
    }
   ],
   "source": [
    "List_A.append(List_B)\n",
    "List_A"
   ]
  },
  {
   "cell_type": "code",
   "execution_count": 72,
   "metadata": {},
   "outputs": [
    {
     "data": {
      "text/plain": [
       "[7, 2.333, '饺子', '馄饨', '面条', '炒饭', ['two', 'elements'], 'two', 'elements']"
      ]
     },
     "execution_count": 72,
     "metadata": {},
     "output_type": "execute_result"
    }
   ],
   "source": [
    "List_A.extend(List_B)\n",
    "List_A"
   ]
  },
  {
   "cell_type": "code",
   "execution_count": 73,
   "metadata": {},
   "outputs": [
    {
     "data": {
      "text/plain": [
       "[7,\n",
       " 'FE520',\n",
       " 2.333,\n",
       " '饺子',\n",
       " '馄饨',\n",
       " '面条',\n",
       " '炒饭',\n",
       " ['two', 'elements'],\n",
       " 'two',\n",
       " 'elements']"
      ]
     },
     "execution_count": 73,
     "metadata": {},
     "output_type": "execute_result"
    }
   ],
   "source": [
    "List_A.insert(1,'FE520')\n",
    "List_A"
   ]
  },
  {
   "cell_type": "code",
   "execution_count": 74,
   "metadata": {},
   "outputs": [
    {
     "data": {
      "text/plain": [
       "[7, 2.333, '饺子', '馄饨', '面条', '炒饭', ['two', 'elements'], 'two', 'elements']"
      ]
     },
     "execution_count": 74,
     "metadata": {},
     "output_type": "execute_result"
    }
   ],
   "source": [
    "del List_A[1]\n",
    "List_A"
   ]
  },
  {
   "cell_type": "code",
   "execution_count": 75,
   "metadata": {},
   "outputs": [
    {
     "name": "stdout",
     "output_type": "stream",
     "text": [
      "elements [7, 2.333, '饺子', '馄饨', '面条', '炒饭', ['two', 'elements'], 'two']\n"
     ]
    }
   ],
   "source": [
    "last = List_A.pop(-1)\n",
    "print(last, List_A)"
   ]
  },
  {
   "cell_type": "code",
   "execution_count": 76,
   "metadata": {},
   "outputs": [
    {
     "data": {
      "text/plain": [
       "['饺子', '馄饨', '面条', '炒饭', ['two', 'elements'], 'two']"
      ]
     },
     "execution_count": 76,
     "metadata": {},
     "output_type": "execute_result"
    }
   ],
   "source": [
    "List_C = List_A[2::]\n",
    "List_C"
   ]
  },
  {
   "cell_type": "code",
   "execution_count": 79,
   "metadata": {},
   "outputs": [
    {
     "data": {
      "text/plain": [
       "['饺子',\n",
       " '馄饨',\n",
       " '面条',\n",
       " '炒饭',\n",
       " ['two', 'elements'],\n",
       " 'two',\n",
       " '饺子',\n",
       " '馄饨',\n",
       " '面条',\n",
       " '炒饭',\n",
       " ['two', 'elements'],\n",
       " 'two']"
      ]
     },
     "execution_count": 79,
     "metadata": {},
     "output_type": "execute_result"
    }
   ],
   "source": [
    "List_C = List_C * 2\n",
    "List_C"
   ]
  },
  {
   "cell_type": "code",
   "execution_count": 80,
   "metadata": {
    "scrolled": true
   },
   "outputs": [
    {
     "data": {
      "text/plain": [
       "['two',\n",
       " ['two', 'elements'],\n",
       " '炒饭',\n",
       " '面条',\n",
       " '馄饨',\n",
       " '饺子',\n",
       " 'two',\n",
       " ['two', 'elements'],\n",
       " '炒饭',\n",
       " '面条',\n",
       " '馄饨',\n",
       " '饺子']"
      ]
     },
     "execution_count": 80,
     "metadata": {},
     "output_type": "execute_result"
    }
   ],
   "source": [
    "List_C[::-1]"
   ]
  },
  {
   "cell_type": "markdown",
   "metadata": {},
   "source": [
    "# Practice Dictionary"
   ]
  },
  {
   "cell_type": "code",
   "execution_count": 2,
   "metadata": {},
   "outputs": [],
   "source": [
    "A = [1, 2, 3, 2, 1, 7]"
   ]
  },
  {
   "cell_type": "code",
   "execution_count": 4,
   "metadata": {},
   "outputs": [
    {
     "data": {
      "text/plain": [
       "{'a', 'e', 'l', 'p'}"
      ]
     },
     "execution_count": 4,
     "metadata": {},
     "output_type": "execute_result"
    }
   ],
   "source": [
    "B = 'apple'\n",
    "set(B)"
   ]
  },
  {
   "cell_type": "code",
   "execution_count": 94,
   "metadata": {},
   "outputs": [],
   "source": [
    "num = list(set(A))"
   ]
  },
  {
   "cell_type": "code",
   "execution_count": 102,
   "metadata": {},
   "outputs": [
    {
     "data": {
      "text/plain": [
       "{1: 0, 2: 0, 3: 0, 7: 0}"
      ]
     },
     "execution_count": 102,
     "metadata": {},
     "output_type": "execute_result"
    }
   ],
   "source": [
    "dic = { }\n",
    "for i in range(len(num)):\n",
    "    dic[num[i]] = 0\n",
    "dic"
   ]
  },
  {
   "cell_type": "code",
   "execution_count": 103,
   "metadata": {},
   "outputs": [
    {
     "data": {
      "text/plain": [
       "{1: 2, 2: 2, 3: 1, 7: 1}"
      ]
     },
     "execution_count": 103,
     "metadata": {},
     "output_type": "execute_result"
    }
   ],
   "source": [
    "#两个for循环，也可以用一个\n",
    "for i in range(len(num)):\n",
    "    for j in range(len(A)):\n",
    "        if num[i] == A[j]:\n",
    "            dic[num[i]] += 1\n",
    "dic"
   ]
  },
  {
   "cell_type": "markdown",
   "metadata": {},
   "source": [
    "# Loop Practice:Sum"
   ]
  },
  {
   "cell_type": "code",
   "execution_count": 111,
   "metadata": {},
   "outputs": [],
   "source": [
    "A = [1, 2, 3, 4, 5, 6]"
   ]
  },
  {
   "cell_type": "code",
   "execution_count": 113,
   "metadata": {},
   "outputs": [
    {
     "name": "stdout",
     "output_type": "stream",
     "text": [
      "3.5\n"
     ]
    }
   ],
   "source": [
    "lens = len(A)\n",
    "sum = 0\n",
    "for i in range(lens):\n",
    "    sum = sum + A[i]\n",
    "total_num = sum/(lens)\n",
    "print(total_num)"
   ]
  },
  {
   "cell_type": "markdown",
   "metadata": {},
   "source": [
    "# Loop Practice: Gradient Decent"
   ]
  },
  {
   "cell_type": "code",
   "execution_count": 10,
   "metadata": {},
   "outputs": [
    {
     "name": "stdout",
     "output_type": "stream",
     "text": [
      "[0.18, 1.0, 0.92, 0.07, 0.85, 0.99, 0.87] [109.85, 155.72, 137.66, 76.17, 139.75, 162.6, 151.77]\n"
     ]
    }
   ],
   "source": [
    "x = [[0.18], [1.0], [0.92], [0.07], [0.85], [0.99], [0.87]]\n",
    "y = [[109.85], [155.72], [137.66], [76.17], [139.75], [162.6], [151.77]]\n",
    "\n",
    "lens = len(x)\n",
    "for i in range(lens): #把列表套列表消除\n",
    "    x[i] = (x[i])[0]\n",
    "    y[i] = (y[i])[0]\n",
    "print(x,\n",
    "y)"
   ]
  },
  {
   "cell_type": "code",
   "execution_count": 19,
   "metadata": {},
   "outputs": [],
   "source": [
    "m = 0\n",
    "c = 0 \n",
    "L = 0.01"
   ]
  },
  {
   "cell_type": "code",
   "execution_count": 20,
   "metadata": {},
   "outputs": [
    {
     "name": "stdout",
     "output_type": "stream",
     "text": [
      "[-19.773, -155.72, -126.6472, -5.331900000000001, -118.7875, -160.974, -132.03990000000002]\n",
      "[-109.85, -155.72, -137.66, -76.17, -139.75, -162.6, -151.77]\n"
     ]
    }
   ],
   "source": [
    "Dm = []\n",
    "Dc = []\n",
    "pred_y = []\n",
    "for i in range(lens):\n",
    "    pred_y.append(x[i]*m + c)\n",
    "    Dm.append(x[i]*(pred_y[i] - y[i]))\n",
    "    Dc.append(pred_y[i] - y[i])\n",
    "print(Dm)\n",
    "print(Dc)"
   ]
  },
  {
   "cell_type": "code",
   "execution_count": 21,
   "metadata": {},
   "outputs": [
    {
     "name": "stdout",
     "output_type": "stream",
     "text": [
      "-102.75335714285714 -133.36\n"
     ]
    }
   ],
   "source": [
    "sum_Dm = 0\n",
    "sum_Dc = 0\n",
    "for i in range(lens):\n",
    "    sum_Dm = sum_Dm + Dm[i]\n",
    "    sum_Dc = sum_Dc + Dc[i]\n",
    "    \n",
    "dm = sum_Dm/lens\n",
    "dc = sum_Dc/lens\n",
    "print(dm, dc)"
   ]
  },
  {
   "cell_type": "code",
   "execution_count": 22,
   "metadata": {},
   "outputs": [
    {
     "name": "stdout",
     "output_type": "stream",
     "text": [
      "1.0275335714285714 1.3336000000000001\n"
     ]
    }
   ],
   "source": [
    "m = m - L*dm\n",
    "c = c - L*dc\n",
    "print(m, c)"
   ]
  },
  {
   "cell_type": "code",
   "execution_count": 23,
   "metadata": {},
   "outputs": [
    {
     "name": "stdout",
     "output_type": "stream",
     "text": [
      "72.75909214440966 82.63651862901871\n"
     ]
    }
   ],
   "source": [
    "loop = 0\n",
    "while loop <= 19999: #循环200次\n",
    "    loop += 1\n",
    "    Dm = []\n",
    "    Dc = []\n",
    "    pred_y = []\n",
    "    for i in range(lens):\n",
    "        pred_y.append(x[i]*m + c)\n",
    "        Dm.append(x[i]*(pred_y[i] - y[i]))\n",
    "        Dc.append(pred_y[i] - y[i])\n",
    "    sum_Dm = 0\n",
    "    sum_Dc = 0\n",
    "    for i in range(lens):\n",
    "        sum_Dm = sum_Dm + Dm[i]\n",
    "        sum_Dc = sum_Dc + Dc[i]\n",
    "    \n",
    "    dm = sum_Dm/lens\n",
    "    dc = sum_Dc/lens\n",
    "    \n",
    "    m = m - L*dm\n",
    "    c = c - L*dc\n",
    "    \n",
    "print(m, c)"
   ]
  },
  {
   "cell_type": "code",
   "execution_count": 24,
   "metadata": {},
   "outputs": [],
   "source": [
    "import matplotlib.pyplot as plt"
   ]
  },
  {
   "cell_type": "code",
   "execution_count": 25,
   "metadata": {
    "scrolled": false
   },
   "outputs": [
    {
     "data": {
      "text/plain": [
       "[<matplotlib.lines.Line2D at 0x24e21761af0>]"
      ]
     },
     "execution_count": 25,
     "metadata": {},
     "output_type": "execute_result"
    },
    {
     "data": {
      "image/png": "[encoded data removed]",
      "text/plain": [
       "<Figure size 432x288 with 1 Axes>"
      ]
     },
     "metadata": {
      "needs_background": "light"
     },
     "output_type": "display_data"
    }
   ],
   "source": [
    "plt.scatter(x, y, s = 50)\n",
    "\n",
    "x_value = []\n",
    "y_value = []\n",
    "for i in range(lens):\n",
    "    x_value.append(x[i])\n",
    "    y_value.append(m*x_value[i] + c)\n",
    "plt.title(\"figure\")\n",
    "plt.plot(x_value, y_value)"
   ]
  },
  {
   "cell_type": "code",
   "execution_count": null,
   "metadata": {},
   "outputs": [],
   "source": []
  },
  {
   "cell_type": "code",
   "execution_count": null,
   "metadata": {},
   "outputs": [],
   "source": []
  }
 ],
 "metadata": {
  "kernelspec": {
   "display_name": "Python 3",
   "language": "python",
   "name": "python3"
  },
  "language_info": {
   "codemirror_mode": {
    "name": "ipython",
    "version": 3
   },
   "file_extension": ".py",
   "mimetype": "text/x-python",
   "name": "python",
   "nbconvert_exporter": "python",
   "pygments_lexer": "ipython3",
   "version": "3.8.3"
  }
 },
 "nbformat": 4,
 "nbformat_minor": 4
}
